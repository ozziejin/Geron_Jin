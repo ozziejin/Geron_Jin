{
 "cells": [
  {
   "cell_type": "code",
   "execution_count": 1,
   "metadata": {},
   "outputs": [],
   "source": [
    "import numpy as np\n",
    "import tensorflow\n",
    "from tensorflow import keras\n",
    "import os\n",
    "\n",
    "# To plot pretty figures\n",
    "%matplotlib inline\n",
    "import matplotlib as mpl\n",
    "import matplotlib.pyplot as plt\n",
    "mpl.rc('axes', labelsize=14)\n",
    "mpl.rc('xtick', labelsize=12)\n",
    "mpl.rc('ytick', labelsize=12)"
   ]
  },
  {
   "cell_type": "code",
   "execution_count": 38,
   "metadata": {},
   "outputs": [],
   "source": [
    "(X_train, y_train), (X_test, y_test) = keras.datasets.cifar10.load_data()"
   ]
  },
  {
   "cell_type": "code",
   "execution_count": 39,
   "metadata": {},
   "outputs": [
    {
     "name": "stdout",
     "output_type": "stream",
     "text": [
      "(50000, 32, 32, 3)\n"
     ]
    },
    {
     "data": {
      "image/png": "[encoded data removed]",
      "text/plain": [
       "<Figure size 432x288 with 5 Axes>"
      ]
     },
     "metadata": {
      "needs_background": "light"
     },
     "output_type": "display_data"
    }
   ],
   "source": [
    "print(X_train.shape)\n",
    "for n in range(5):\n",
    "    plt.subplot(1, 6, n+1)\n",
    "    plt.imshow(X_train[n],interpolation=\"nearest\")\n",
    "plt.show()"
   ]
  },
  {
   "cell_type": "markdown",
   "metadata": {},
   "source": [
    "## a. 20 Hidden Layers of 100 Neurons with He Initialization and ELU activation func"
   ]
  },
  {
   "cell_type": "code",
   "execution_count": 33,
   "metadata": {},
   "outputs": [],
   "source": [
    "model = keras.models.Sequential()\n",
    "model.add(keras.layers.Flatten(input_shape=[32,32,3]))\n",
    "\n",
    "n_layers = 20\n",
    "n_neurons = 100\n",
    "for l in range(n_layers):\n",
    "    model.add(keras.layers.Dense(n_neurons, activation='elu', kernel_initializer='he_normal'))\n",
    "\n",
    "model.add(keras.layers.Dense(10, activation='softmax'))"
   ]
  },
  {
   "cell_type": "markdown",
   "metadata": {},
   "source": [
    "## b. train with Nadam Optimization and Early Stopping"
   ]
  },
  {
   "cell_type": "code",
   "execution_count": 4,
   "metadata": {},
   "outputs": [],
   "source": [
    "early_stopping_cb = keras.callbacks.EarlyStopping(patience=20)\n",
    "model_checkpoint_cb = keras.callbacks.ModelCheckpoint(\"cifar10_model.h5\", save_best_only=True)\n",
    "\n",
    "\n",
    "tb_path = r'C:\\Users\\lu.jin01\\OneDrive - Cardinal Health\\2.Jpt_code\\TB_logs'\n",
    "run_index = 1 # increment every time you train the model\n",
    "run_logdir = os.path.join(tb_path, \"cifar10\", \"run_{:03d}\".format(run_index))\n",
    "\n",
    "tensorboard_cb = keras.callbacks.TensorBoard(run_logdir)\n",
    "callbacks = [early_stopping_cb, model_checkpoint_cb, tensorboard_cb]"
   ]
  },
  {
   "cell_type": "code",
   "execution_count": 39,
   "metadata": {},
   "outputs": [],
   "source": [
    "optimizer = keras.optimizers.Nadam(lr=5e-5)\n",
    "\n",
    "model.compile(loss='sparse_categorical_crossentropy',\n",
    "             optimizer=optimizer,\n",
    "             metrics=['accuracy'])"
   ]
  },
  {
   "cell_type": "code",
   "execution_count": 43,
   "metadata": {},
   "outputs": [
    {
     "name": "stdout",
     "output_type": "stream",
     "text": [
      "Train on 45000 samples, validate on 5000 samples\n",
      "Epoch 1/100\n",
      "45000/45000 [==============================] - 28s 621us/sample - loss: 8.4760 - accuracy: 0.1402 - val_loss: 2.3277 - val_accuracy: 0.1618\n",
      "Epoch 2/100\n",
      "45000/45000 [==============================] - 21s 467us/sample - loss: 2.1560 - accuracy: 0.2189 - val_loss: 2.1512 - val_accuracy: 0.2136\n",
      "Epoch 3/100\n",
      "45000/45000 [==============================] - 19s 429us/sample - loss: 2.0118 - accuracy: 0.2662 - val_loss: 2.0808 - val_accuracy: 0.2592\n",
      "Epoch 4/100\n",
      "45000/45000 [==============================] - 19s 418us/sample - loss: 1.9178 - accuracy: 0.3049 - val_loss: 2.0183 - val_accuracy: 0.2682\n",
      "Epoch 5/100\n",
      "45000/45000 [==============================] - 19s 431us/sample - loss: 1.8459 - accuracy: 0.3305 - val_loss: 1.8832 - val_accuracy: 0.3110\n",
      "Epoch 6/100\n",
      "45000/45000 [==============================] - 22s 481us/sample - loss: 1.7946 - accuracy: 0.3504 - val_loss: 1.8326 - val_accuracy: 0.3422\n",
      "Epoch 7/100\n",
      "45000/45000 [==============================] - 20s 447us/sample - loss: 1.7479 - accuracy: 0.3677 - val_loss: 1.7419 - val_accuracy: 0.3674\n",
      "Epoch 8/100\n",
      "45000/45000 [==============================] - 20s 449us/sample - loss: 1.7050 - accuracy: 0.3849 - val_loss: 1.7133 - val_accuracy: 0.3912\n",
      "Epoch 9/100\n",
      "45000/45000 [==============================] - 21s 463us/sample - loss: 1.6741 - accuracy: 0.3949 - val_loss: 1.7202 - val_accuracy: 0.3854\n",
      "Epoch 10/100\n",
      "45000/45000 [==============================] - 19s 429us/sample - loss: 1.6442 - accuracy: 0.4064 - val_loss: 1.6987 - val_accuracy: 0.3886\n",
      "Epoch 11/100\n",
      "45000/45000 [==============================] - 20s 449us/sample - loss: 1.6180 - accuracy: 0.4180 - val_loss: 1.6921 - val_accuracy: 0.3924\n",
      "Epoch 12/100\n",
      "45000/45000 [==============================] - 22s 499us/sample - loss: 1.5973 - accuracy: 0.4256 - val_loss: 1.6329 - val_accuracy: 0.4122\n",
      "Epoch 13/100\n",
      "45000/45000 [==============================] - 20s 438us/sample - loss: 1.5752 - accuracy: 0.4305 - val_loss: 1.6330 - val_accuracy: 0.4144\n",
      "Epoch 14/100\n",
      "45000/45000 [==============================] - 20s 438us/sample - loss: 1.5563 - accuracy: 0.4386 - val_loss: 1.6909 - val_accuracy: 0.3936\n",
      "Epoch 15/100\n",
      "45000/45000 [==============================] - 22s 493us/sample - loss: 1.5425 - accuracy: 0.4432 - val_loss: 1.6295 - val_accuracy: 0.4252\n",
      "Epoch 16/100\n",
      "45000/45000 [==============================] - 20s 455us/sample - loss: 1.5214 - accuracy: 0.4516 - val_loss: 1.6021 - val_accuracy: 0.4264\n",
      "Epoch 17/100\n",
      "45000/45000 [==============================] - 21s 468us/sample - loss: 1.5107 - accuracy: 0.4586 - val_loss: 1.6018 - val_accuracy: 0.4214\n",
      "Epoch 18/100\n",
      "45000/45000 [==============================] - 23s 509us/sample - loss: 1.4971 - accuracy: 0.4614 - val_loss: 1.6198 - val_accuracy: 0.4276\n",
      "Epoch 19/100\n",
      "45000/45000 [==============================] - 20s 440us/sample - loss: 1.4798 - accuracy: 0.4687 - val_loss: 1.5708 - val_accuracy: 0.4450\n",
      "Epoch 20/100\n",
      "45000/45000 [==============================] - 20s 451us/sample - loss: 1.4680 - accuracy: 0.4718 - val_loss: 1.5815 - val_accuracy: 0.4408\n",
      "Epoch 21/100\n",
      "45000/45000 [==============================] - 21s 456us/sample - loss: 1.4542 - accuracy: 0.4797 - val_loss: 1.5680 - val_accuracy: 0.4440\n",
      "Epoch 22/100\n",
      "45000/45000 [==============================] - 20s 451us/sample - loss: 1.4419 - accuracy: 0.4806 - val_loss: 1.5533 - val_accuracy: 0.4542\n",
      "Epoch 23/100\n",
      "45000/45000 [==============================] - 18s 403us/sample - loss: 1.4323 - accuracy: 0.4834 - val_loss: 1.5572 - val_accuracy: 0.4466\n",
      "Epoch 24/100\n",
      "45000/45000 [==============================] - 18s 410us/sample - loss: 1.4193 - accuracy: 0.4911 - val_loss: 1.5540 - val_accuracy: 0.4528\n",
      "Epoch 25/100\n",
      "45000/45000 [==============================] - 18s 396us/sample - loss: 1.4058 - accuracy: 0.4972 - val_loss: 1.5905 - val_accuracy: 0.4414\n",
      "Epoch 26/100\n",
      "45000/45000 [==============================] - 19s 419us/sample - loss: 1.3968 - accuracy: 0.4999 - val_loss: 1.5687 - val_accuracy: 0.4496\n",
      "Epoch 27/100\n",
      "45000/45000 [==============================] - 18s 407us/sample - loss: 1.3866 - accuracy: 0.5024 - val_loss: 1.5548 - val_accuracy: 0.4574\n",
      "Epoch 28/100\n",
      "45000/45000 [==============================] - 18s 398us/sample - loss: 1.3792 - accuracy: 0.5053 - val_loss: 1.5400 - val_accuracy: 0.4526\n",
      "Epoch 29/100\n",
      "45000/45000 [==============================] - 18s 401us/sample - loss: 1.3693 - accuracy: 0.5095 - val_loss: 1.5586 - val_accuracy: 0.4426\n",
      "Epoch 30/100\n",
      "45000/45000 [==============================] - 18s 406us/sample - loss: 1.3588 - accuracy: 0.5135 - val_loss: 1.6733 - val_accuracy: 0.4264\n",
      "Epoch 31/100\n",
      "45000/45000 [==============================] - 18s 399us/sample - loss: 1.3524 - accuracy: 0.5161 - val_loss: 1.5717 - val_accuracy: 0.4422\n",
      "Epoch 32/100\n",
      "45000/45000 [==============================] - 18s 400us/sample - loss: 1.3390 - accuracy: 0.5197 - val_loss: 1.5502 - val_accuracy: 0.4568\n",
      "Epoch 33/100\n",
      "45000/45000 [==============================] - 18s 400us/sample - loss: 1.3310 - accuracy: 0.5225 - val_loss: 1.5639 - val_accuracy: 0.4492\n",
      "Epoch 34/100\n",
      "45000/45000 [==============================] - 18s 406us/sample - loss: 1.3224 - accuracy: 0.5274 - val_loss: 1.5590 - val_accuracy: 0.4546\n",
      "Epoch 35/100\n",
      "45000/45000 [==============================] - 18s 399us/sample - loss: 1.3138 - accuracy: 0.5293 - val_loss: 1.5230 - val_accuracy: 0.4564\n",
      "Epoch 36/100\n",
      "45000/45000 [==============================] - 19s 417us/sample - loss: 1.3082 - accuracy: 0.5289 - val_loss: 1.5265 - val_accuracy: 0.4618\n",
      "Epoch 37/100\n",
      "45000/45000 [==============================] - 18s 405us/sample - loss: 1.2978 - accuracy: 0.5353 - val_loss: 1.5584 - val_accuracy: 0.4520\n",
      "Epoch 38/100\n",
      "45000/45000 [==============================] - 18s 398us/sample - loss: 1.2909 - accuracy: 0.5363 - val_loss: 1.5462 - val_accuracy: 0.4634\n",
      "Epoch 39/100\n",
      "45000/45000 [==============================] - 18s 396us/sample - loss: 1.2845 - accuracy: 0.5395 - val_loss: 1.5344 - val_accuracy: 0.4622\n",
      "Epoch 40/100\n",
      "45000/45000 [==============================] - 18s 399us/sample - loss: 1.2701 - accuracy: 0.5451 - val_loss: 1.5456 - val_accuracy: 0.4668\n",
      "Epoch 41/100\n",
      "45000/45000 [==============================] - 18s 409us/sample - loss: 1.2636 - accuracy: 0.5467 - val_loss: 1.5514 - val_accuracy: 0.4562\n",
      "Epoch 42/100\n",
      "45000/45000 [==============================] - 18s 397us/sample - loss: 1.2578 - accuracy: 0.5509 - val_loss: 1.5412 - val_accuracy: 0.4650\n",
      "Epoch 43/100\n",
      "45000/45000 [==============================] - 18s 399us/sample - loss: 1.2496 - accuracy: 0.5525 - val_loss: 1.5688 - val_accuracy: 0.4596acy: 0.55\n",
      "Epoch 44/100\n",
      "45000/45000 [==============================] - 19s 416us/sample - loss: 1.2431 - accuracy: 0.5537 - val_loss: 1.5511 - val_accuracy: 0.4672\n",
      "Epoch 45/100\n",
      "45000/45000 [==============================] - 18s 396us/sample - loss: 1.2362 - accuracy: 0.5585 - val_loss: 1.5625 - val_accuracy: 0.4606\n",
      "Epoch 46/100\n",
      "45000/45000 [==============================] - 18s 404us/sample - loss: 1.2299 - accuracy: 0.5617 - val_loss: 1.5402 - val_accuracy: 0.4714\n",
      "Epoch 47/100\n",
      "45000/45000 [==============================] - 18s 402us/sample - loss: 1.2234 - accuracy: 0.5594 - val_loss: 1.5561 - val_accuracy: 0.4736\n",
      "Epoch 48/100\n",
      "45000/45000 [==============================] - 18s 399us/sample - loss: 1.2135 - accuracy: 0.5642 - val_loss: 1.5586 - val_accuracy: 0.4682\n",
      "Epoch 49/100\n",
      "45000/45000 [==============================] - 18s 399us/sample - loss: 1.2062 - accuracy: 0.5671 - val_loss: 1.5533 - val_accuracy: 0.4762\n",
      "Epoch 50/100\n",
      "45000/45000 [==============================] - 18s 398us/sample - loss: 1.1972 - accuracy: 0.5700 - val_loss: 1.5487 - val_accuracy: 0.4692\n",
      "Epoch 51/100\n",
      "45000/45000 [==============================] - 18s 408us/sample - loss: 1.1914 - accuracy: 0.5721 - val_loss: 1.5742 - val_accuracy: 0.4620\n",
      "Epoch 52/100\n",
      "45000/45000 [==============================] - 18s 401us/sample - loss: 1.1838 - accuracy: 0.5746 - val_loss: 1.5690 - val_accuracy: 0.4762\n",
      "Epoch 53/100\n",
      "45000/45000 [==============================] - 18s 403us/sample - loss: 1.1782 - accuracy: 0.5786 - val_loss: 1.5986 - val_accuracy: 0.4616\n",
      "Epoch 54/100\n",
      "45000/45000 [==============================] - 18s 405us/sample - loss: 1.1736 - accuracy: 0.5802 - val_loss: 1.6234 - val_accuracy: 0.4604\n",
      "Epoch 55/100\n",
      "45000/45000 [==============================] - 18s 396us/sample - loss: 1.1687 - accuracy: 0.5796 - val_loss: 1.6231 - val_accuracy: 0.4588\n"
     ]
    },
    {
     "data": {
      "text/plain": [
       "<tensorflow.python.keras.callbacks.History at 0x23be5b844c8>"
      ]
     },
     "execution_count": 43,
     "metadata": {},
     "output_type": "execute_result"
    }
   ],
   "source": [
    "model.fit(X_train, y_train, epochs=100, validation_split=0.1, callbacks=callbacks)"
   ]
  },
  {
   "cell_type": "code",
   "execution_count": 44,
   "metadata": {},
   "outputs": [
    {
     "name": "stdout",
     "output_type": "stream",
     "text": [
      "10000/10000 [==============================] - 1s 122us/sample - loss: 1.6096 - accuracy: 0.4579\n"
     ]
    },
    {
     "data": {
      "text/plain": [
       "[1.609637471961975, 0.4579]"
      ]
     },
     "execution_count": 44,
     "metadata": {},
     "output_type": "execute_result"
    }
   ],
   "source": [
    "model.evaluate(X_test, y_test)"
   ]
  },
  {
   "cell_type": "code",
   "execution_count": 55,
   "metadata": {},
   "outputs": [
    {
     "data": {
      "text/plain": [
       "ERROR: Timed out waiting for TensorBoard to start. It may still be running as pid 24472."
      ]
     },
     "metadata": {},
     "output_type": "display_data"
    }
   ],
   "source": [
    "# %load_ext tensorboard\n",
    "tb_loc = os.path.join(tb_path, \"cifar10\")\n",
    "%tensorboard --logdir=\"C:/Users/lu.jin01/OneDrive - Cardinal Health/2.Jpt_code/TB_logs/cifar10\"\n",
    "# %tensorboard --logdir tb_loc"
   ]
  },
  {
   "cell_type": "code",
   "execution_count": 37,
   "metadata": {},
   "outputs": [
    {
     "data": {
      "text/plain": [
       "0"
      ]
     },
     "execution_count": 37,
     "metadata": {},
     "output_type": "execute_result"
    }
   ],
   "source": [
    "model = keras.models.load_model(\"my_cifar10_model.h5\")\n",
    "early_stopping_cb.stopped_epoch"
   ]
  },
  {
   "cell_type": "markdown",
   "metadata": {},
   "source": [
    "## c. Add Batch Normalization and compare Converging Speed and Model Accuracy"
   ]
  },
  {
   "cell_type": "code",
   "execution_count": 221,
   "metadata": {},
   "outputs": [],
   "source": [
    "keras.backend.clear_session()\n",
    "\n",
    "model = keras.models.Sequential()\n",
    "model.add(keras.layers.Flatten(input_shape=[32,32,3]))\n",
    "\n",
    "n_layers = 20\n",
    "n_neurons = 100\n",
    "for l in range(n_layers):\n",
    "    model.add(keras.layers.BatchNormalization())\n",
    "    model.add(keras.layers.Dense(n_neurons, activation='elu', kernel_initializer='he_normal'))\n",
    "model.add(keras.layers.BatchNormalization())\n",
    "model.add(keras.layers.Dense(10, activation='softmax'))"
   ]
  },
  {
   "cell_type": "code",
   "execution_count": 222,
   "metadata": {},
   "outputs": [],
   "source": [
    "early_stopping_cb = keras.callbacks.EarlyStopping(patience=20)\n",
    "model_checkpoint_cb = keras.callbacks.ModelCheckpoint(\"cifar10_tb_model.h5\", save_best_only=True)\n",
    "\n",
    "\n",
    "tb_path = r'C:\\Users\\lu.jin01\\OneDrive - Cardinal Health\\2.Jpt_code\\TB_logs'\n",
    "run_index = 2 # increment every time you train the model\n",
    "run_logdir = os.path.join(tb_path, \"cifar10\", \"run_{:03d}\".format(run_index))\n",
    "\n",
    "tensorboard_cb = keras.callbacks.TensorBoard(run_logdir)\n",
    "callbacks = [early_stopping_cb, model_checkpoint_cb, tensorboard_cb]"
   ]
  },
  {
   "cell_type": "code",
   "execution_count": 223,
   "metadata": {},
   "outputs": [],
   "source": [
    "# optimizer = keras.optimizers.Nadam(lr=5e-5)\n",
    "optimizer = keras.optimizers.Nadam(lr=5e-4)\n",
    "\n",
    "model.compile(loss='sparse_categorical_crossentropy',\n",
    "             optimizer=optimizer,\n",
    "             metrics=['accuracy'])"
   ]
  },
  {
   "cell_type": "code",
   "execution_count": 224,
   "metadata": {},
   "outputs": [
    {
     "name": "stdout",
     "output_type": "stream",
     "text": [
      "Train on 45000 samples, validate on 5000 samples\n",
      "Epoch 1/100\n",
      "45000/45000 [==============================] - 59s 1ms/sample - loss: 1.9181 - accuracy: 0.3133 - val_loss: 1.7090 - val_accuracy: 0.3808\n",
      "Epoch 2/100\n",
      "45000/45000 [==============================] - 40s 879us/sample - loss: 1.7164 - accuracy: 0.3881 - val_loss: 1.6268 - val_accuracy: 0.4232\n",
      "Epoch 3/100\n",
      "45000/45000 [==============================] - 40s 879us/sample - loss: 1.6437 - accuracy: 0.4158 - val_loss: 1.5595 - val_accuracy: 0.4412\n",
      "Epoch 4/100\n",
      "45000/45000 [==============================] - 39s 872us/sample - loss: 1.5888 - accuracy: 0.4366 - val_loss: 1.5060 - val_accuracy: 0.4678\n",
      "Epoch 5/100\n",
      "45000/45000 [==============================] - 40s 881us/sample - loss: 1.5459 - accuracy: 0.4520 - val_loss: 1.4943 - val_accuracy: 0.4716\n",
      "Epoch 6/100\n",
      "45000/45000 [==============================] - 40s 898us/sample - loss: 1.5109 - accuracy: 0.4638 - val_loss: 1.4618 - val_accuracy: 0.4782\n",
      "Epoch 7/100\n",
      "45000/45000 [==============================] - 40s 897us/sample - loss: 1.4669 - accuracy: 0.4812 - val_loss: 1.4232 - val_accuracy: 0.4858\n",
      "Epoch 8/100\n",
      "45000/45000 [==============================] - 41s 904us/sample - loss: 1.4386 - accuracy: 0.4918 - val_loss: 1.4018 - val_accuracy: 0.5056\n",
      "Epoch 9/100\n",
      "45000/45000 [==============================] - 40s 886us/sample - loss: 1.4067 - accuracy: 0.5027 - val_loss: 1.4276 - val_accuracy: 0.4936\n",
      "Epoch 10/100\n",
      "45000/45000 [==============================] - 39s 875us/sample - loss: 1.3832 - accuracy: 0.5155 - val_loss: 1.4077 - val_accuracy: 0.5020\n",
      "Epoch 11/100\n",
      "45000/45000 [==============================] - 41s 914us/sample - loss: 1.3587 - accuracy: 0.5190 - val_loss: 1.3711 - val_accuracy: 0.5128\n",
      "Epoch 12/100\n",
      "45000/45000 [==============================] - 40s 889us/sample - loss: 1.3365 - accuracy: 0.5302 - val_loss: 1.3837 - val_accuracy: 0.5150\n",
      "Epoch 13/100\n",
      "45000/45000 [==============================] - 40s 885us/sample - loss: 1.3184 - accuracy: 0.5378 - val_loss: 1.3368 - val_accuracy: 0.5244\n",
      "Epoch 14/100\n",
      "45000/45000 [==============================] - 41s 916us/sample - loss: 1.2972 - accuracy: 0.5457 - val_loss: 1.3439 - val_accuracy: 0.5244\n",
      "Epoch 15/100\n",
      "45000/45000 [==============================] - 40s 895us/sample - loss: 1.2812 - accuracy: 0.5519 - val_loss: 1.3431 - val_accuracy: 0.5128\n",
      "Epoch 16/100\n",
      "45000/45000 [==============================] - 39s 876us/sample - loss: 1.2634 - accuracy: 0.5577 - val_loss: 1.3296 - val_accuracy: 0.5274\n",
      "Epoch 17/100\n",
      "45000/45000 [==============================] - 41s 914us/sample - loss: 1.2456 - accuracy: 0.5657 - val_loss: 1.3550 - val_accuracy: 0.5306\n",
      "Epoch 18/100\n",
      "45000/45000 [==============================] - 41s 905us/sample - loss: 1.2306 - accuracy: 0.5705 - val_loss: 1.3494 - val_accuracy: 0.5212\n",
      "Epoch 19/100\n",
      "45000/45000 [==============================] - 40s 884us/sample - loss: 1.2099 - accuracy: 0.5768 - val_loss: 1.3309 - val_accuracy: 0.5384\n",
      "Epoch 20/100\n",
      "45000/45000 [==============================] - 41s 909us/sample - loss: 1.1982 - accuracy: 0.5826 - val_loss: 1.3298 - val_accuracy: 0.5348\n",
      "Epoch 21/100\n",
      "45000/45000 [==============================] - 41s 917us/sample - loss: 1.1798 - accuracy: 0.5877 - val_loss: 1.3296 - val_accuracy: 0.5290\n",
      "Epoch 22/100\n",
      "45000/45000 [==============================] - 41s 920us/sample - loss: 1.1701 - accuracy: 0.5897 - val_loss: 1.3386 - val_accuracy: 0.5368\n",
      "Epoch 23/100\n",
      "45000/45000 [==============================] - 43s 948us/sample - loss: 1.1578 - accuracy: 0.5968 - val_loss: 1.3242 - val_accuracy: 0.5422\n",
      "Epoch 24/100\n",
      "45000/45000 [==============================] - 41s 912us/sample - loss: 1.1470 - accuracy: 0.6000 - val_loss: 1.3287 - val_accuracy: 0.5342\n",
      "Epoch 25/100\n",
      "45000/45000 [==============================] - 40s 886us/sample - loss: 1.1355 - accuracy: 0.6036 - val_loss: 1.3683 - val_accuracy: 0.5288\n",
      "Epoch 26/100\n",
      "45000/45000 [==============================] - 45s 992us/sample - loss: 1.1190 - accuracy: 0.6103 - val_loss: 1.3456 - val_accuracy: 0.5340\n",
      "Epoch 27/100\n",
      "45000/45000 [==============================] - 45s 997us/sample - loss: 1.1135 - accuracy: 0.6100 - val_loss: 1.3550 - val_accuracy: 0.5314\n",
      "Epoch 28/100\n",
      "45000/45000 [==============================] - 41s 905us/sample - loss: 1.0960 - accuracy: 0.6196 - val_loss: 1.3588 - val_accuracy: 0.5314\n",
      "Epoch 29/100\n",
      "45000/45000 [==============================] - 40s 898us/sample - loss: 1.0905 - accuracy: 0.6217 - val_loss: 1.3302 - val_accuracy: 0.5392\n",
      "Epoch 30/100\n",
      "45000/45000 [==============================] - 40s 887us/sample - loss: 1.0718 - accuracy: 0.6267 - val_loss: 1.3406 - val_accuracy: 0.5448\n",
      "Epoch 31/100\n",
      "45000/45000 [==============================] - 39s 872us/sample - loss: 1.0605 - accuracy: 0.6296 - val_loss: 1.3586 - val_accuracy: 0.5278\n",
      "Epoch 32/100\n",
      "45000/45000 [==============================] - 41s 903us/sample - loss: 1.0581 - accuracy: 0.6315 - val_loss: 1.3187 - val_accuracy: 0.5432\n",
      "Epoch 33/100\n",
      "45000/45000 [==============================] - 40s 894us/sample - loss: 1.0480 - accuracy: 0.6358 - val_loss: 1.3835 - val_accuracy: 0.5396\n",
      "Epoch 34/100\n",
      "45000/45000 [==============================] - 37s 832us/sample - loss: 1.0354 - accuracy: 0.6398 - val_loss: 1.3484 - val_accuracy: 0.5412\n",
      "Epoch 35/100\n",
      "45000/45000 [==============================] - 39s 871us/sample - loss: 1.0283 - accuracy: 0.6425 - val_loss: 1.3383 - val_accuracy: 0.5384\n",
      "Epoch 36/100\n",
      "45000/45000 [==============================] - 38s 854us/sample - loss: 1.0192 - accuracy: 0.6452 - val_loss: 1.3611 - val_accuracy: 0.5316\n",
      "Epoch 37/100\n",
      "45000/45000 [==============================] - 38s 837us/sample - loss: 1.0126 - accuracy: 0.6469 - val_loss: 1.3822 - val_accuracy: 0.5262\n",
      "Epoch 38/100\n",
      "45000/45000 [==============================] - 39s 868us/sample - loss: 1.0109 - accuracy: 0.6465 - val_loss: 1.3497 - val_accuracy: 0.5404\n",
      "Epoch 39/100\n",
      "45000/45000 [==============================] - 38s 839us/sample - loss: 0.9925 - accuracy: 0.6538 - val_loss: 1.3550 - val_accuracy: 0.5466\n",
      "Epoch 40/100\n",
      "45000/45000 [==============================] - 38s 855us/sample - loss: 0.9838 - accuracy: 0.6577 - val_loss: 1.3970 - val_accuracy: 0.5352\n",
      "Epoch 41/100\n",
      "45000/45000 [==============================] - 39s 866us/sample - loss: 0.9795 - accuracy: 0.6581 - val_loss: 1.3703 - val_accuracy: 0.5324\n",
      "Epoch 42/100\n",
      "45000/45000 [==============================] - 39s 865us/sample - loss: 0.9733 - accuracy: 0.6625 - val_loss: 1.3749 - val_accuracy: 0.5394\n",
      "Epoch 43/100\n",
      "45000/45000 [==============================] - 39s 858us/sample - loss: 0.9663 - accuracy: 0.6640 - val_loss: 1.3822 - val_accuracy: 0.5304\n",
      "Epoch 44/100\n",
      "45000/45000 [==============================] - 39s 866us/sample - loss: 0.9517 - accuracy: 0.6676 - val_loss: 1.3837 - val_accuracy: 0.5344\n",
      "Epoch 45/100\n",
      "45000/45000 [==============================] - 40s 881us/sample - loss: 0.9450 - accuracy: 0.6720 - val_loss: 1.3788 - val_accuracy: 0.5420\n",
      "Epoch 46/100\n",
      "45000/45000 [==============================] - 38s 853us/sample - loss: 0.9390 - accuracy: 0.6732 - val_loss: 1.3642 - val_accuracy: 0.5412\n",
      "Epoch 47/100\n",
      "45000/45000 [==============================] - 39s 858us/sample - loss: 0.9317 - accuracy: 0.6763 - val_loss: 1.3955 - val_accuracy: 0.5376\n",
      "Epoch 48/100\n",
      "45000/45000 [==============================] - 38s 848us/sample - loss: 0.9330 - accuracy: 0.6754 - val_loss: 1.4125 - val_accuracy: 0.5350\n",
      "Epoch 49/100\n",
      "45000/45000 [==============================] - 38s 849us/sample - loss: 0.9239 - accuracy: 0.6782 - val_loss: 1.3991 - val_accuracy: 0.5396\n",
      "Epoch 50/100\n",
      "45000/45000 [==============================] - 38s 852us/sample - loss: 0.9201 - accuracy: 0.6806 - val_loss: 1.3961 - val_accuracy: 0.5374\n",
      "Epoch 51/100\n",
      "45000/45000 [==============================] - 38s 850us/sample - loss: 0.9029 - accuracy: 0.6862 - val_loss: 1.3819 - val_accuracy: 0.5368\n",
      "Epoch 52/100\n",
      "45000/45000 [==============================] - 39s 866us/sample - loss: 0.9021 - accuracy: 0.6862 - val_loss: 1.3838 - val_accuracy: 0.5322\n"
     ]
    },
    {
     "data": {
      "text/plain": [
       "<tensorflow.python.keras.callbacks.History at 0x29fa4b4fb08>"
      ]
     },
     "execution_count": 224,
     "metadata": {},
     "output_type": "execute_result"
    }
   ],
   "source": [
    "model.fit(X_train, y_train, epochs=100, validation_split=0.1, callbacks=callbacks)"
   ]
  },
  {
   "cell_type": "code",
   "execution_count": 48,
   "metadata": {},
   "outputs": [
    {
     "name": "stdout",
     "output_type": "stream",
     "text": [
      "10000/10000 [==============================] - 2s 173us/sample - loss: 1.4175 - accuracy: 0.5163\n"
     ]
    },
    {
     "data": {
      "text/plain": [
       "[1.417516872215271, 0.5163]"
      ]
     },
     "execution_count": 48,
     "metadata": {},
     "output_type": "execute_result"
    }
   ],
   "source": [
    "model.evaluate(X_test, y_test)"
   ]
  },
  {
   "cell_type": "markdown",
   "metadata": {},
   "source": [
    "##### Conclusion: longer training time per epoch, but fewer epochs"
   ]
  },
  {
   "cell_type": "markdown",
   "metadata": {},
   "source": [
    "## d. Use SELU to replace ELU+Batch_Normalization"
   ]
  },
  {
   "cell_type": "markdown",
   "metadata": {},
   "source": [
    "##### build a neural network composed exclusively of a stack of dense layers, and if all hidden layers use the SELU activation function, \n",
    "then the network will self-normalize: the output of each layer will tend to preserve a mean of 0 and standard deviation of 1 during training,<br/>\n",
    "which solves the vanishing/exploding gradients problem"
   ]
  },
  {
   "cell_type": "code",
   "execution_count": 57,
   "metadata": {},
   "outputs": [],
   "source": [
    "keras.backend.clear_session()\n",
    "\n",
    "model = keras.models.Sequential()\n",
    "model.add(keras.layers.Flatten(input_shape=[32,32,3]))\n",
    "\n",
    "n_layers = 20\n",
    "n_neurons = 100\n",
    "for l in range(n_layers):\n",
    "    model.add(keras.layers.Dense(n_neurons, activation='selu', kernel_initializer='lecun_normal'))\n",
    "\n",
    "model.add(keras.layers.Dense(10, activation='softmax'))\n",
    "\n",
    "optimizer = keras.optimizers.Nadam(lr=5e-5)\n",
    "\n",
    "model.compile(loss='sparse_categorical_crossentropy',\n",
    "             optimizer=optimizer,\n",
    "             metrics=['accuracy'])\n",
    "\n",
    "early_stopping_cb = keras.callbacks.EarlyStopping(patience=20)\n",
    "model_checkpoint_cb = keras.callbacks.ModelCheckpoint(\"cifar10_selu_model.h5\", save_best_only=True)\n",
    "\n",
    "tb_path = r'C:\\Users\\lu.jin01\\OneDrive - Cardinal Health\\2.Jpt_code\\TB_logs'\n",
    "run_index = 3 # increment every time you train the model\n",
    "run_logdir = os.path.join(tb_path, \"cifar10\", \"run_{:03d}\".format(run_index))\n",
    "\n",
    "tensorboard_cb = keras.callbacks.TensorBoard(run_logdir)\n",
    "callbacks = [early_stopping_cb, model_checkpoint_cb, tensorboard_cb]"
   ]
  },
  {
   "cell_type": "markdown",
   "metadata": {},
   "source": [
    "##### Need to standardardize input data"
   ]
  },
  {
   "cell_type": "code",
   "execution_count": 58,
   "metadata": {},
   "outputs": [],
   "source": [
    "avg = X_train.mean()\n",
    "std = X_train.std()\n",
    "X_train_scaled = (X_train - avg)/std"
   ]
  },
  {
   "cell_type": "code",
   "execution_count": 59,
   "metadata": {},
   "outputs": [
    {
     "name": "stdout",
     "output_type": "stream",
     "text": [
      "Train on 45000 samples, validate on 5000 samples\n",
      "Epoch 1/100\n",
      "45000/45000 [==============================] - 33s 740us/sample - loss: 1.8621 - accuracy: 0.3376 - val_loss: 1.7545 - val_accuracy: 0.3706\n",
      "Epoch 2/100\n",
      "45000/45000 [==============================] - 22s 479us/sample - loss: 1.6466 - accuracy: 0.4145 - val_loss: 1.6347 - val_accuracy: 0.4070\n",
      "Epoch 3/100\n",
      "45000/45000 [==============================] - 22s 478us/sample - loss: 1.5525 - accuracy: 0.4492 - val_loss: 1.5943 - val_accuracy: 0.4368\n",
      "Epoch 4/100\n",
      "45000/45000 [==============================] - 25s 549us/sample - loss: 1.4843 - accuracy: 0.4722 - val_loss: 1.5519 - val_accuracy: 0.4540\n",
      "Epoch 5/100\n",
      "45000/45000 [==============================] - 22s 490us/sample - loss: 1.4272 - accuracy: 0.4914 - val_loss: 1.5280 - val_accuracy: 0.4612\n",
      "Epoch 6/100\n",
      "45000/45000 [==============================] - 22s 498us/sample - loss: 1.3730 - accuracy: 0.5149 - val_loss: 1.4919 - val_accuracy: 0.4708\n",
      "Epoch 7/100\n",
      "45000/45000 [==============================] - 23s 508us/sample - loss: 1.3296 - accuracy: 0.5264 - val_loss: 1.4876 - val_accuracy: 0.4900\n",
      "Epoch 8/100\n",
      "45000/45000 [==============================] - 22s 488us/sample - loss: 1.2860 - accuracy: 0.5425 - val_loss: 1.4838 - val_accuracy: 0.4830\n",
      "Epoch 9/100\n",
      "45000/45000 [==============================] - 24s 541us/sample - loss: 1.2469 - accuracy: 0.5576 - val_loss: 1.4815 - val_accuracy: 0.4822\n",
      "Epoch 10/100\n",
      "45000/45000 [==============================] - 23s 504us/sample - loss: 1.2124 - accuracy: 0.5722 - val_loss: 1.4717 - val_accuracy: 0.4852\n",
      "Epoch 11/100\n",
      "45000/45000 [==============================] - 23s 510us/sample - loss: 1.1781 - accuracy: 0.5838 - val_loss: 1.4821 - val_accuracy: 0.4910\n",
      "Epoch 12/100\n",
      "45000/45000 [==============================] - 23s 508us/sample - loss: 1.1442 - accuracy: 0.5922 - val_loss: 1.4742 - val_accuracy: 0.4984\n",
      "Epoch 13/100\n",
      "45000/45000 [==============================] - 22s 496us/sample - loss: 1.1125 - accuracy: 0.6067 - val_loss: 1.4868 - val_accuracy: 0.4948\n",
      "Epoch 14/100\n",
      "45000/45000 [==============================] - 23s 504us/sample - loss: 1.0818 - accuracy: 0.6179 - val_loss: 1.4952 - val_accuracy: 0.4930\n",
      "Epoch 15/100\n",
      "45000/45000 [==============================] - 26s 576us/sample - loss: 1.0554 - accuracy: 0.6272 - val_loss: 1.5160 - val_accuracy: 0.4996\n",
      "Epoch 16/100\n",
      "45000/45000 [==============================] - 22s 489us/sample - loss: 1.0229 - accuracy: 0.6391 - val_loss: 1.5431 - val_accuracy: 0.4858\n",
      "Epoch 17/100\n",
      "45000/45000 [==============================] - 22s 484us/sample - loss: 0.9988 - accuracy: 0.6445 - val_loss: 1.5482 - val_accuracy: 0.4864\n",
      "Epoch 18/100\n",
      "45000/45000 [==============================] - 24s 540us/sample - loss: 0.9691 - accuracy: 0.6564 - val_loss: 1.5604 - val_accuracy: 0.4828\n",
      "Epoch 19/100\n",
      "45000/45000 [==============================] - 26s 575us/sample - loss: 0.9455 - accuracy: 0.6671 - val_loss: 1.5681 - val_accuracy: 0.4912\n",
      "Epoch 20/100\n",
      "45000/45000 [==============================] - 23s 516us/sample - loss: 0.9165 - accuracy: 0.6774 - val_loss: 1.6063 - val_accuracy: 0.4914\n",
      "Epoch 21/100\n",
      "45000/45000 [==============================] - 22s 490us/sample - loss: 0.8907 - accuracy: 0.6850 - val_loss: 1.6076 - val_accuracy: 0.4952\n",
      "Epoch 22/100\n",
      "45000/45000 [==============================] - 21s 472us/sample - loss: 0.8656 - accuracy: 0.6973 - val_loss: 1.6596 - val_accuracy: 0.4798\n",
      "Epoch 23/100\n",
      "45000/45000 [==============================] - 23s 516us/sample - loss: 0.8420 - accuracy: 0.7041 - val_loss: 1.6737 - val_accuracy: 0.4794\n",
      "Epoch 24/100\n",
      "45000/45000 [==============================] - 22s 496us/sample - loss: 0.8203 - accuracy: 0.7116 - val_loss: 1.7037 - val_accuracy: 0.4890\n",
      "Epoch 25/100\n",
      "45000/45000 [==============================] - 24s 534us/sample - loss: 0.7953 - accuracy: 0.7203 - val_loss: 1.7232 - val_accuracy: 0.4848\n",
      "Epoch 26/100\n",
      "45000/45000 [==============================] - 23s 521us/sample - loss: 0.7724 - accuracy: 0.7300 - val_loss: 1.7591 - val_accuracy: 0.4806\n",
      "Epoch 27/100\n",
      "45000/45000 [==============================] - 22s 484us/sample - loss: 0.7499 - accuracy: 0.7329 - val_loss: 1.7811 - val_accuracy: 0.4828\n",
      "Epoch 28/100\n",
      "45000/45000 [==============================] - 23s 519us/sample - loss: 0.7313 - accuracy: 0.7444 - val_loss: 1.7907 - val_accuracy: 0.4818\n",
      "Epoch 29/100\n",
      "45000/45000 [==============================] - 23s 508us/sample - loss: 0.7086 - accuracy: 0.7522 - val_loss: 1.8442 - val_accuracy: 0.4884\n",
      "Epoch 30/100\n",
      "45000/45000 [==============================] - 25s 546us/sample - loss: 0.6855 - accuracy: 0.7594 - val_loss: 1.8599 - val_accuracy: 0.4828\n",
      "10000/10000 [==============================] - 2s 202us/sample - loss: 1.8854 - accuracy: 0.4785\n"
     ]
    },
    {
     "data": {
      "text/plain": [
       "[1.885440619277954, 0.4785]"
      ]
     },
     "execution_count": 59,
     "metadata": {},
     "output_type": "execute_result"
    }
   ],
   "source": [
    "model.fit(X_train_scaled, y_train, epochs=100, validation_split=0.1, callbacks=callbacks)\n",
    "\n",
    "X_test_scaled = (X_test - avg)/std\n",
    "model.evaluate(X_test_scaled, y_test)"
   ]
  },
  {
   "cell_type": "markdown",
   "metadata": {},
   "source": [
    "##### Conclusion: About same training time per Epoch as ELU, but fewer epochs"
   ]
  },
  {
   "cell_type": "markdown",
   "metadata": {},
   "source": [
    "## e. Regularize with alpha dropout, then use MC Dropout without retraing the model"
   ]
  },
  {
   "cell_type": "markdown",
   "metadata": {},
   "source": [
    "<link rel=\"stylesheet\" href=\"styles.css\">"
   ]
  },
  {
   "cell_type": "code",
   "execution_count": 61,
   "metadata": {},
   "outputs": [],
   "source": [
    "keras.backend.clear_session()\n",
    "\n",
    "model = keras.models.Sequential()\n",
    "model.add(keras.layers.Flatten(input_shape=[32,32,3]))\n",
    "\n",
    "n_layers = 20\n",
    "n_neurons = 100\n",
    "for l in range(n_layers):\n",
    "    model.add(keras.layers.Dense(n_neurons, activation='selu', kernel_initializer='lecun_normal'))\n",
    "# add a alpha dropout layer right before the output\n",
    "model.add(keras.layers.AlphaDropout(rate=0.1))\n",
    "model.add(keras.layers.Dense(10, activation='softmax'))\n",
    "\n",
    "optimizer = keras.optimizers.Nadam(lr=5e-5)\n",
    "\n",
    "model.compile(loss='sparse_categorical_crossentropy',\n",
    "             optimizer=optimizer,\n",
    "             metrics=['accuracy'])\n",
    "\n",
    "early_stopping_cb = keras.callbacks.EarlyStopping(patience=20)\n",
    "model_checkpoint_cb = keras.callbacks.ModelCheckpoint(\"cifar10_AlphaDropout_model.h5\", save_best_only=True)\n",
    "\n",
    "tb_path = r'C:\\Users\\lu.jin01\\OneDrive - Cardinal Health\\2.Jpt_code\\TB_logs'\n",
    "run_index = 4 # increment every time you train the model\n",
    "run_logdir = os.path.join(tb_path, \"cifar10\", \"run_{:03d}\".format(run_index))\n",
    "\n",
    "tensorboard_cb = keras.callbacks.TensorBoard(run_logdir)\n",
    "callbacks = [early_stopping_cb, model_checkpoint_cb, tensorboard_cb]"
   ]
  },
  {
   "cell_type": "code",
   "execution_count": 62,
   "metadata": {},
   "outputs": [
    {
     "name": "stdout",
     "output_type": "stream",
     "text": [
      "Train on 45000 samples, validate on 5000 samples\n",
      "Epoch 1/100\n",
      "45000/45000 [==============================] - 33s 734us/sample - loss: 2.0258 - accuracy: 0.2910 - val_loss: 1.7752 - val_accuracy: 0.3830\n",
      "Epoch 2/100\n",
      "45000/45000 [==============================] - 26s 575us/sample - loss: 1.7315 - accuracy: 0.3889 - val_loss: 1.6518 - val_accuracy: 0.4270\n",
      "Epoch 3/100\n",
      "45000/45000 [==============================] - 22s 478us/sample - loss: 1.5959 - accuracy: 0.4357 - val_loss: 1.5864 - val_accuracy: 0.4520\n",
      "Epoch 4/100\n",
      "45000/45000 [==============================] - 21s 460us/sample - loss: 1.5099 - accuracy: 0.4641 - val_loss: 1.5658 - val_accuracy: 0.4662\n",
      "Epoch 5/100\n",
      "45000/45000 [==============================] - 26s 588us/sample - loss: 1.4416 - accuracy: 0.4871 - val_loss: 1.5284 - val_accuracy: 0.4708\n",
      "Epoch 6/100\n",
      "45000/45000 [==============================] - 23s 521us/sample - loss: 1.3871 - accuracy: 0.5066 - val_loss: 1.5450 - val_accuracy: 0.4722\n",
      "Epoch 7/100\n",
      "45000/45000 [==============================] - 21s 474us/sample - loss: 1.3409 - accuracy: 0.5236 - val_loss: 1.5283 - val_accuracy: 0.4740\n",
      "Epoch 8/100\n",
      "45000/45000 [==============================] - 22s 479us/sample - loss: 1.2976 - accuracy: 0.5411 - val_loss: 1.5183 - val_accuracy: 0.4840\n",
      "Epoch 9/100\n",
      "45000/45000 [==============================] - 23s 504us/sample - loss: 1.2579 - accuracy: 0.5526 - val_loss: 1.5216 - val_accuracy: 0.4908\n",
      "Epoch 10/100\n",
      "45000/45000 [==============================] - 22s 483us/sample - loss: 1.2227 - accuracy: 0.5648 - val_loss: 1.5265 - val_accuracy: 0.4848\n",
      "Epoch 11/100\n",
      "45000/45000 [==============================] - 22s 499us/sample - loss: 1.1901 - accuracy: 0.5762 - val_loss: 1.5923 - val_accuracy: 0.4846\n",
      "Epoch 12/100\n",
      "45000/45000 [==============================] - 21s 465us/sample - loss: 1.1569 - accuracy: 0.5891 - val_loss: 1.5471 - val_accuracy: 0.4866\n",
      "Epoch 13/100\n",
      "45000/45000 [==============================] - 21s 464us/sample - loss: 1.1262 - accuracy: 0.6014 - val_loss: 1.5881 - val_accuracy: 0.4888\n",
      "Epoch 14/100\n",
      "45000/45000 [==============================] - 21s 459us/sample - loss: 1.0963 - accuracy: 0.6088 - val_loss: 1.5782 - val_accuracy: 0.4892\n",
      "Epoch 15/100\n",
      "45000/45000 [==============================] - 21s 466us/sample - loss: 1.0668 - accuracy: 0.6185 - val_loss: 1.6621 - val_accuracy: 0.4884\n",
      "Epoch 16/100\n",
      "45000/45000 [==============================] - 21s 461us/sample - loss: 1.0420 - accuracy: 0.6277 - val_loss: 1.6496 - val_accuracy: 0.4892\n",
      "Epoch 17/100\n",
      "45000/45000 [==============================] - 23s 520us/sample - loss: 1.0195 - accuracy: 0.6367 - val_loss: 1.6680 - val_accuracy: 0.4942\n",
      "Epoch 18/100\n",
      "45000/45000 [==============================] - 21s 461us/sample - loss: 0.9914 - accuracy: 0.6475 - val_loss: 1.6455 - val_accuracy: 0.4990\n",
      "Epoch 19/100\n",
      "45000/45000 [==============================] - 21s 468us/sample - loss: 0.9678 - accuracy: 0.6527 - val_loss: 1.7296 - val_accuracy: 0.4950\n",
      "Epoch 20/100\n",
      "45000/45000 [==============================] - 22s 486us/sample - loss: 0.9392 - accuracy: 0.6656 - val_loss: 1.7400 - val_accuracy: 0.4916\n",
      "Epoch 21/100\n",
      "45000/45000 [==============================] - 22s 483us/sample - loss: 0.9196 - accuracy: 0.6725 - val_loss: 1.7190 - val_accuracy: 0.4944\n",
      "Epoch 22/100\n",
      "45000/45000 [==============================] - 22s 500us/sample - loss: 0.8953 - accuracy: 0.6776 - val_loss: 1.8123 - val_accuracy: 0.4906\n",
      "Epoch 23/100\n",
      "45000/45000 [==============================] - 25s 565us/sample - loss: 0.8722 - accuracy: 0.6911 - val_loss: 1.8043 - val_accuracy: 0.4964\n",
      "Epoch 24/100\n",
      "45000/45000 [==============================] - 21s 478us/sample - loss: 0.8518 - accuracy: 0.6946 - val_loss: 1.8637 - val_accuracy: 0.4886\n",
      "Epoch 25/100\n",
      "45000/45000 [==============================] - 21s 474us/sample - loss: 0.8271 - accuracy: 0.7029 - val_loss: 1.9148 - val_accuracy: 0.4934\n",
      "Epoch 26/100\n",
      "45000/45000 [==============================] - 22s 499us/sample - loss: 0.8070 - accuracy: 0.7101 - val_loss: 1.9322 - val_accuracy: 0.4970\n",
      "Epoch 27/100\n",
      "45000/45000 [==============================] - 21s 473us/sample - loss: 0.7901 - accuracy: 0.7174 - val_loss: 1.9760 - val_accuracy: 0.4916\n",
      "Epoch 28/100\n",
      "45000/45000 [==============================] - 24s 526us/sample - loss: 0.7690 - accuracy: 0.7251 - val_loss: 2.0165 - val_accuracy: 0.4896\n",
      "10000/10000 [==============================] - 2s 161us/sample - loss: 2.0056 - accuracy: 0.4879\n"
     ]
    },
    {
     "data": {
      "text/plain": [
       "[2.005557848930359, 0.4879]"
      ]
     },
     "execution_count": 62,
     "metadata": {},
     "output_type": "execute_result"
    }
   ],
   "source": [
    "model.fit(X_train_scaled, y_train, epochs=100, validation_split=0.1, callbacks=callbacks)\n",
    "\n",
    "model.evaluate(X_test_scaled, y_test)"
   ]
  },
  {
   "cell_type": "markdown",
   "metadata": {},
   "source": [
    "#### Alpha Dropout Conclusion: 2 fewer Epochs, and sligher better accuracy than the none regularized version"
   ]
  },
  {
   "cell_type": "markdown",
   "metadata": {},
   "source": [
    "#### 1 Try Monte Carlo Dropout the easy way"
   ]
  },
  {
   "cell_type": "code",
   "execution_count": 139,
   "metadata": {},
   "outputs": [],
   "source": [
    "tf.random.set_seed(0)\n",
    "np.random.seed(0)\n",
    "y_probas = np.stack([model(X_test_scaled, training=True) for sample in range(100)])\n",
    "y_prob = y_probas.mean(axis=0)"
   ]
  },
  {
   "cell_type": "code",
   "execution_count": 140,
   "metadata": {},
   "outputs": [
    {
     "data": {
      "text/plain": [
       "array([[0.01, 0.  , 0.01, 0.08, 0.04, 0.02, 0.01, 0.  , 0.05, 0.01]],\n",
       "      dtype=float32)"
      ]
     },
     "execution_count": 140,
     "metadata": {},
     "output_type": "execute_result"
    }
   ],
   "source": [
    "np.round(y_probas.std(0)[:1],2)"
   ]
  },
  {
   "cell_type": "code",
   "execution_count": 141,
   "metadata": {},
   "outputs": [
    {
     "data": {
      "text/plain": [
       "0.4874"
      ]
     },
     "execution_count": 141,
     "metadata": {},
     "output_type": "execute_result"
    }
   ],
   "source": [
    "y_pred = np.argmax(y_prob, axis=1).reshape(-1,1)\n",
    "accuracy = np.sum(y_pred==y_test)/len(y_test)\n",
    "accuracy"
   ]
  },
  {
   "cell_type": "markdown",
   "metadata": {},
   "source": [
    "#### 2 try MC dropout by building a subclass"
   ]
  },
  {
   "cell_type": "code",
   "execution_count": 152,
   "metadata": {},
   "outputs": [],
   "source": [
    "class MCAlphaDropout(keras.layers.AlphaDropout):\n",
    "    def call(self, inputs):\n",
    "        return super().call(inputs, training=True)"
   ]
  },
  {
   "cell_type": "code",
   "execution_count": 153,
   "metadata": {},
   "outputs": [],
   "source": [
    "# create another model to replicate the weights from the previous model, but replace dropout with MCdropout\n",
    "mc_model = keras.models.Sequential()\n",
    "for layer in model.layers:\n",
    "    if isinstance(layer, keras.layers.AlphaDropout):\n",
    "        mc_model.add(MCAlphaDropout(layer.rate))\n",
    "    else:\n",
    "        mc_model.add(layer)"
   ]
  },
  {
   "cell_type": "code",
   "execution_count": 154,
   "metadata": {},
   "outputs": [],
   "source": [
    "def mc_dropout_predict_probas(mc_model, X, n_samples=10):\n",
    "    Y_probas = [mc_model.predict(X) for sample in range(n_samples)]\n",
    "    return np.mean(Y_probas, axis=0)\n",
    "\n",
    "def mc_dropout_predict_classes(mc_model, X, n_samples=10):\n",
    "    Y_probas = mc_dropout_predict_probas(mc_model, X, n_samples)\n",
    "    return np.argmax(Y_probas, axis=1)"
   ]
  },
  {
   "cell_type": "code",
   "execution_count": 205,
   "metadata": {},
   "outputs": [
    {
     "data": {
      "text/plain": [
       "0.4883"
      ]
     },
     "execution_count": 205,
     "metadata": {},
     "output_type": "execute_result"
    }
   ],
   "source": [
    "keras.backend.clear_session()\n",
    "tf.random.set_seed(0)\n",
    "np.random.seed(0)\n",
    "\n",
    "y_hat = mc_dropout_predict_classes(mc_model, X_test_scaled, n_samples=20)\n",
    "accuracy = np.mean(y_hat == y_test[:, 0])\n",
    "accuracy"
   ]
  },
  {
   "cell_type": "markdown",
   "metadata": {},
   "source": [
    "## f. Retrain the model using 1cycle scheduling and compare training speed and accuracy"
   ]
  },
  {
   "cell_type": "markdown",
   "metadata": {},
   "source": [
    "##### 1. find the optimal learning rate along the exponential curve of learning rate"
   ]
  },
  {
   "cell_type": "code",
   "execution_count": 178,
   "metadata": {},
   "outputs": [],
   "source": [
    "K = keras.backend\n",
    "\n",
    "class ExponentialLearningRate(keras.callbacks.Callback):\n",
    "    def __init__(self, factor):\n",
    "        self.factor = factor\n",
    "        self.rates = []\n",
    "        self.losses = []\n",
    "    def on_batch_end(self, batch, logs):\n",
    "        self.rates.append(K.get_value(self.model.optimizer.lr))\n",
    "        self.losses.append(logs[\"loss\"])\n",
    "        K.set_value(self.model.optimizer.lr, self.model.optimizer.lr * self.factor)\n",
    "        \n",
    "def find_learning_rate(model, X, y, epochs=1, batch_size=32, min_rate=10**-5, max_rate=10):\n",
    "    init_weights = model.get_weights()\n",
    "    iterations = len(X) // batch_size * epochs\n",
    "    factor = np.exp(np.log(max_rate / min_rate) / iterations)\n",
    "    \n",
    "    init_lr = K.get_value(model.optimizer.lr)\n",
    "    K.set_value(model.optimizer.lr, min_rate)\n",
    "    exp_lr = ExponentialLearningRate(factor)\n",
    "    \n",
    "    history = model.fit(X, y, epochs=epochs, batch_size=batch_size, callbacks=[exp_lr])\n",
    "    K.set_value(model.optimizer.lr, init_lr)\n",
    "    model.set_weights(init_weights)\n",
    "    return exp_lr.rates, exp_lr.losses\n",
    "\n",
    "def plot_lr_vs_loss(rates, losses):\n",
    "    plt.plot(rates, losses)\n",
    "    plt.gca().set_xscale('log')\n",
    "    plt.hlines(min(losses), min(rates), max(rates))\n",
    "    plt.axis([min(rates), max(rates), min(losses), (losses[0] + min(losses)) / 2])\n",
    "    plt.xlabel(\"Learning rate\")\n",
    "    plt.ylabel(\"Loss\")"
   ]
  },
  {
   "cell_type": "code",
   "execution_count": 218,
   "metadata": {},
   "outputs": [],
   "source": [
    "keras.backend.clear_session()\n",
    "\n",
    "model = keras.models.Sequential()\n",
    "model.add(keras.layers.Flatten(input_shape=[32,32,3]))\n",
    "\n",
    "n_layers = 20\n",
    "n_neurons = 100\n",
    "for l in range(n_layers):\n",
    "    model.add(keras.layers.Dense(n_neurons, activation='selu', kernel_initializer='lecun_normal'))\n",
    "# add a alpha dropout layer right before the output\n",
    "model.add(keras.layers.AlphaDropout(rate=0.1))\n",
    "model.add(keras.layers.Dense(10, activation='softmax'))\n",
    "\n",
    "optimizer = keras.optimizers.Nadam(lr=1e-3)\n",
    "\n",
    "model.compile(loss='sparse_categorical_crossentropy',\n",
    "             optimizer=optimizer,\n",
    "             metrics=['accuracy'])"
   ]
  },
  {
   "cell_type": "code",
   "execution_count": 219,
   "metadata": {},
   "outputs": [
    {
     "name": "stdout",
     "output_type": "stream",
     "text": [
      "Train on 50000 samples\n",
      "50000/50000 [==============================] - 16s 328us/sample - loss: 43498311.1100 - accuracy: 0.1487 - loss: 48036818.6004 -\n"
     ]
    },
    {
     "data": {
      "text/plain": [
       "[1e-05, 10.000085, 1.8548095, 3.6067853655133932]"
      ]
     },
     "execution_count": 219,
     "metadata": {},
     "output_type": "execute_result"
    },
    {
     "data": {
      "image/png": "[encoded data removed]",
      "text/plain": [
       "<Figure size 432x288 with 1 Axes>"
      ]
     },
     "metadata": {
      "needs_background": "light"
     },
     "output_type": "display_data"
    }
   ],
   "source": [
    "batch_size = 28*28//8\n",
    "rates, losses = find_learning_rate(model, X_train_scaled, y_train, epochs=1, batch_size=batch_size)\n",
    "plot_lr_vs_loss(rates, losses)\n",
    "plt.axis([min(rates), max(rates), min(losses), (losses[0] + min(losses)) / 1.4])"
   ]
  },
  {
   "cell_type": "markdown",
   "metadata": {},
   "source": [
    "##### 2. Use the half of optimal rate found above to re-train using 1cycle scedular"
   ]
  },
  {
   "cell_type": "code",
   "execution_count": 206,
   "metadata": {},
   "outputs": [],
   "source": [
    "class OneCycleScheduler(keras.callbacks.Callback):\n",
    "    def __init__(self, iterations, max_rate, start_rate=None, last_iterations=None, last_rate=None):\n",
    "        self.iterations = iterations\n",
    "        self.max_rate = max_rate\n",
    "        self.start_rate = start_rate or max_rate / 10\n",
    "        self.last_iterations = last_iterations or iterations // 10 + 1  # for lr to drop several orders of magnitude\n",
    "        self.half_iteration = (iterations - self.last_iterations) // 2  # mid-way point for lr to start dropping\n",
    "        self.last_rate = last_rate or self.start_rate / 1000\n",
    "        self.iteration = 0\n",
    "    def _interpolate(self, iter1, iter2, rate1, rate2):\n",
    "        return (rate2 - rate1) * (self.iteration - iter1) / (iter2 - iter1) + rate1\n",
    "    def on_batch_begin(self, batch, logs):\n",
    "        if self.iteration < self.half_iteration:\n",
    "            rate = self._interpolate(0, self.half_iteration, self.start_rate, self.max_rate)\n",
    "        elif self.iteration < 2 * self.half_iteration:\n",
    "            rate = self._interpolate(self.half_iteration, 2 * self.half_iteration,\n",
    "                                     self.max_rate, self.start_rate)\n",
    "        else:\n",
    "            rate = self._interpolate(2 * self.half_iteration, self.iterations,\n",
    "                                     self.start_rate, self.last_rate)\n",
    "            rate = max(rate, self.last_rate)\n",
    "        self.iteration += 1\n",
    "        K.set_value(self.model.optimizer.lr, rate)"
   ]
  },
  {
   "cell_type": "code",
   "execution_count": 215,
   "metadata": {},
   "outputs": [],
   "source": [
    "keras.backend.clear_session()\n",
    "tf.random.set_seed(0)\n",
    "np.random.seed(0)\n",
    "\n",
    "model = keras.models.Sequential()\n",
    "model.add(keras.layers.Flatten(input_shape=[32, 32, 3]))\n",
    "for _ in range(20):\n",
    "    model.add(keras.layers.Dense(100,\n",
    "                                 kernel_initializer=\"lecun_normal\",\n",
    "                                 activation=\"selu\"))\n",
    "\n",
    "model.add(keras.layers.AlphaDropout(rate=0.1))\n",
    "model.add(keras.layers.Dense(10, activation=\"softmax\"))\n",
    "\n",
    "optimizer = keras.optimizers.SGD(lr=5e-2)\n",
    "model.compile(loss=\"sparse_categorical_crossentropy\",\n",
    "              optimizer=optimizer,\n",
    "              metrics=[\"accuracy\"])"
   ]
  },
  {
   "cell_type": "code",
   "execution_count": 216,
   "metadata": {},
   "outputs": [
    {
     "name": "stdout",
     "output_type": "stream",
     "text": [
      "Train on 45000 samples, validate on 5000 samples\n",
      "Epoch 1/15\n",
      "45000/45000 [==============================] - 9s 199us/sample - loss: 2.0475 - accuracy: 0.2867 - val_loss: 1.9023 - val_accuracy: 0.3450\n",
      "Epoch 2/15\n",
      "45000/45000 [==============================] - 7s 150us/sample - loss: 1.7511 - accuracy: 0.3804 - val_loss: 1.8297 - val_accuracy: 0.3482\n",
      "Epoch 3/15\n",
      "45000/45000 [==============================] - 7s 160us/sample - loss: 1.6239 - accuracy: 0.4239 - val_loss: 1.8932 - val_accuracy: 0.3606\n",
      "Epoch 4/15\n",
      "45000/45000 [==============================] - 8s 173us/sample - loss: 1.5575 - accuracy: 0.4460 - val_loss: 1.7927 - val_accuracy: 0.3914\n",
      "Epoch 5/15\n",
      "45000/45000 [==============================] - 7s 166us/sample - loss: 1.5042 - accuracy: 0.4648 - val_loss: 1.8493 - val_accuracy: 0.3708\n",
      "Epoch 6/15\n",
      "45000/45000 [==============================] - 7s 157us/sample - loss: 1.4684 - accuracy: 0.4798 - val_loss: 1.7864 - val_accuracy: 0.3956\n",
      "Epoch 7/15\n",
      "45000/45000 [==============================] - 7s 153us/sample - loss: 1.4361 - accuracy: 0.4889 - val_loss: 1.8352 - val_accuracy: 0.3958\n",
      "Epoch 8/15\n",
      "45000/45000 [==============================] - 7s 158us/sample - loss: 1.4005 - accuracy: 0.5053 - val_loss: 1.7053 - val_accuracy: 0.4406\n",
      "Epoch 9/15\n",
      "45000/45000 [==============================] - 7s 159us/sample - loss: 1.3367 - accuracy: 0.5268 - val_loss: 1.9290 - val_accuracy: 0.4098\n",
      "Epoch 10/15\n",
      "45000/45000 [==============================] - 8s 168us/sample - loss: 1.2665 - accuracy: 0.5498 - val_loss: 1.6641 - val_accuracy: 0.4530\n",
      "Epoch 11/15\n",
      "45000/45000 [==============================] - 7s 153us/sample - loss: 1.1964 - accuracy: 0.5767 - val_loss: 1.6149 - val_accuracy: 0.5082\n",
      "Epoch 12/15\n",
      "45000/45000 [==============================] - 7s 158us/sample - loss: 1.1277 - accuracy: 0.5979 - val_loss: 1.6135 - val_accuracy: 0.4878\n",
      "Epoch 13/15\n",
      "45000/45000 [==============================] - 7s 156us/sample - loss: 1.0608 - accuracy: 0.6206 - val_loss: 1.5565 - val_accuracy: 0.5104\n",
      "Epoch 14/15\n",
      "45000/45000 [==============================] - 8s 172us/sample - loss: 0.9911 - accuracy: 0.6480 - val_loss: 1.5490 - val_accuracy: 0.5264\n",
      "Epoch 15/15\n",
      "45000/45000 [==============================] - 7s 157us/sample - loss: 0.9223 - accuracy: 0.6722 - val_loss: 1.5771 - val_accuracy: 0.5288\n"
     ]
    }
   ],
   "source": [
    "n_epochs = 15\n",
    "onecycle = OneCycleScheduler(len(X_train) // batch_size * n_epochs, max_rate=0.05)\n",
    "history = model.fit(X_train_scaled, y_train, epochs=n_epochs, batch_size=batch_size,\n",
    "                    validation_split=0.1,\n",
    "                    callbacks=[onecycle])"
   ]
  },
  {
   "cell_type": "code",
   "execution_count": 217,
   "metadata": {},
   "outputs": [
    {
     "name": "stdout",
     "output_type": "stream",
     "text": [
      "10000/10000 [==============================] - 2s 158us/sample - loss: 1.5963 - accuracy: 0.5195\n"
     ]
    },
    {
     "data": {
      "text/plain": [
       "[1.5962877784729004, 0.5195]"
      ]
     },
     "execution_count": 217,
     "metadata": {},
     "output_type": "execute_result"
    }
   ],
   "source": [
    "model.evaluate(X_test_scaled, y_test)"
   ]
  },
  {
   "cell_type": "markdown",
   "metadata": {},
   "source": [
    "##### Conclusion: much faster, even better then normalization, needs to investigate the learning rate of previous models"
   ]
  },
  {
   "cell_type": "code",
   "execution_count": null,
   "metadata": {},
   "outputs": [],
   "source": []
  }
 ],
 "metadata": {
  "kernelspec": {
   "display_name": "Python 3",
   "language": "python",
   "name": "python3"
  },
  "language_info": {
   "codemirror_mode": {
    "name": "ipython",
    "version": 3
   },
   "file_extension": ".py",
   "mimetype": "text/x-python",
   "name": "python",
   "nbconvert_exporter": "python",
   "pygments_lexer": "ipython3",
   "version": "3.7.4"
  }
 },
 "nbformat": 4,
 "nbformat_minor": 4
}
