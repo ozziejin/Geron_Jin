{
 "cells": [
  {
   "cell_type": "code",
   "execution_count": 1,
   "metadata": {},
   "outputs": [],
   "source": [
    "import numpy as np\n",
    "import pandas as pd\n",
    "\n",
    "# To plot pretty figures\n",
    "%matplotlib inline\n",
    "import matplotlib as mpl\n",
    "import matplotlib.pyplot as plt\n",
    "mpl.rc('axes', labelsize=14)\n",
    "mpl.rc('xtick', labelsize=12)\n",
    "mpl.rc('ytick', labelsize=12)"
   ]
  },
  {
   "cell_type": "code",
   "execution_count": 2,
   "metadata": {},
   "outputs": [
    {
     "data": {
      "text/plain": [
       "dict_keys(['data', 'target', 'frame', 'feature_names', 'target_names', 'DESCR', 'details', 'categories', 'url'])"
      ]
     },
     "execution_count": 2,
     "metadata": {},
     "output_type": "execute_result"
    }
   ],
   "source": [
    "# download dataset\n",
    "from sklearn.datasets import fetch_openml\n",
    "mnist = fetch_openml('mnist_784', version=1, cache=True)\n",
    "mnist.target = mnist.target.astype(np.int8) # fetch_openml() returns targets as strings\n",
    "\n",
    "mnist.keys()"
   ]
  },
  {
   "cell_type": "code",
   "execution_count": 3,
   "metadata": {},
   "outputs": [
    {
     "data": {
      "text/plain": [
       "((70000, 784), (70000,))"
      ]
     },
     "execution_count": 3,
     "metadata": {},
     "output_type": "execute_result"
    }
   ],
   "source": [
    "mnist['data'].shape, mnist['target'].shape"
   ]
  },
  {
   "cell_type": "code",
   "execution_count": 4,
   "metadata": {},
   "outputs": [],
   "source": [
    "X_train, X_test, y_train, y_test = mnist['data'][:60000],mnist['data'][60000:], mnist['target'][:60000], mnist['target'][60000:]"
   ]
  },
  {
   "cell_type": "markdown",
   "metadata": {},
   "source": [
    "### Use KNN"
   ]
  },
  {
   "cell_type": "code",
   "execution_count": 30,
   "metadata": {},
   "outputs": [],
   "source": [
    "# KNN\n",
    "from sklearn.neighbors import KNeighborsClassifier\n",
    "knn_clf = KNeighborsClassifier() \n",
    "\n",
    "param_grid = [{'weights': [\"uniform\", \"distance\"], 'n_neighbors': [3, 4, 5, 6], 'metric':['minkowski','manhattan']}]\n",
    "\n",
    "from sklearn.model_selection import GridSearchCV\n",
    "grid_cv = GridSearchCV(knn_clf, param_grid, cv=4, verbose=3, n_jobs=-1)"
   ]
  },
  {
   "cell_type": "code",
   "execution_count": 31,
   "metadata": {},
   "outputs": [
    {
     "name": "stdout",
     "output_type": "stream",
     "text": [
      "Fitting 4 folds for each of 16 candidates, totalling 64 fits\n"
     ]
    },
    {
     "name": "stderr",
     "output_type": "stream",
     "text": [
      "[Parallel(n_jobs=-1)]: Using backend LokyBackend with 4 concurrent workers.\n",
      "[Parallel(n_jobs=-1)]: Done  24 tasks      | elapsed: 141.4min\n",
      "[Parallel(n_jobs=-1)]: Done  64 out of  64 | elapsed: 346.3min finished\n"
     ]
    },
    {
     "data": {
      "text/plain": [
       "GridSearchCV(cv=4, error_score='raise-deprecating',\n",
       "             estimator=KNeighborsClassifier(algorithm='auto', leaf_size=30,\n",
       "                                            metric='minkowski',\n",
       "                                            metric_params=None, n_jobs=None,\n",
       "                                            n_neighbors=5, p=2,\n",
       "                                            weights='uniform'),\n",
       "             iid='warn', n_jobs=-1,\n",
       "             param_grid=[{'metric': ['minkowski', 'manhattan'],\n",
       "                          'n_neighbors': [3, 4, 5, 6],\n",
       "                          'weights': ['uniform', 'distance']}],\n",
       "             pre_dispatch='2*n_jobs', refit=True, return_train_score=False,\n",
       "             scoring=None, verbose=3)"
      ]
     },
     "execution_count": 31,
     "metadata": {},
     "output_type": "execute_result"
    }
   ],
   "source": [
    "grid_cv.fit(X_train, y_train)"
   ]
  },
  {
   "cell_type": "code",
   "execution_count": 32,
   "metadata": {},
   "outputs": [
    {
     "data": {
      "text/plain": [
       "{'metric': 'minkowski', 'n_neighbors': 4, 'weights': 'distance'}"
      ]
     },
     "execution_count": 32,
     "metadata": {},
     "output_type": "execute_result"
    }
   ],
   "source": [
    "grid_cv.best_params_"
   ]
  },
  {
   "cell_type": "code",
   "execution_count": 33,
   "metadata": {},
   "outputs": [
    {
     "data": {
      "text/plain": [
       "0.9713166666666667"
      ]
     },
     "execution_count": 33,
     "metadata": {},
     "output_type": "execute_result"
    }
   ],
   "source": [
    "grid_cv.best_score_"
   ]
  },
  {
   "cell_type": "code",
   "execution_count": 34,
   "metadata": {},
   "outputs": [
    {
     "data": {
      "text/plain": [
       "1.0"
      ]
     },
     "execution_count": 34,
     "metadata": {},
     "output_type": "execute_result"
    }
   ],
   "source": [
    "y_train_hat = grid_cv.best_estimator_.predict(X_train)\n",
    "from sklearn.metrics import accuracy_score\n",
    "accuracy_score(y_train_hat, y_train)"
   ]
  },
  {
   "cell_type": "code",
   "execution_count": 36,
   "metadata": {},
   "outputs": [
    {
     "data": {
      "text/plain": [
       "0.9714"
      ]
     },
     "execution_count": 36,
     "metadata": {},
     "output_type": "execute_result"
    }
   ],
   "source": [
    "y_test_hat = grid_cv.predict(X_test)\n",
    "accuracy_score(y_test_hat, y_test)"
   ]
  },
  {
   "cell_type": "markdown",
   "metadata": {},
   "source": [
    "### Use SVC"
   ]
  },
  {
   "cell_type": "code",
   "execution_count": 5,
   "metadata": {},
   "outputs": [],
   "source": [
    "# shuffle training set\n",
    "np.random.seed(42)\n",
    "rnd_idx = np.random.permutation(60000)\n",
    "X_train = X_train[rnd_idx]\n",
    "y_train = y_train[rnd_idx]"
   ]
  },
  {
   "cell_type": "code",
   "execution_count": 6,
   "metadata": {},
   "outputs": [],
   "source": [
    "from sklearn.preprocessing import StandardScaler\n",
    "from sklearn.svm import SVC\n",
    "scaler = StandardScaler()\n",
    "X_train_scaled = scaler.fit_transform(X_train.astype(np.float32))\n",
    "X_test_scaled = scaler.transform(X_test.astype(np.float32))"
   ]
  },
  {
   "cell_type": "code",
   "execution_count": 7,
   "metadata": {},
   "outputs": [
    {
     "data": {
      "text/plain": [
       "SVC(C=1.0, break_ties=False, cache_size=200, class_weight=None, coef0=0.0,\n",
       "    decision_function_shape='ovr', degree=3, gamma='scale', kernel='rbf',\n",
       "    max_iter=-1, probability=False, random_state=0, shrinking=True, tol=0.001,\n",
       "    verbose=False)"
      ]
     },
     "execution_count": 7,
     "metadata": {},
     "output_type": "execute_result"
    }
   ],
   "source": [
    "svm_clf = SVC(\n",
    "    C=1.0,\n",
    "    kernel='rbf',\n",
    "    degree=3,\n",
    "    gamma='scale',\n",
    "    coef0=0.0,\n",
    "    tol=0.001,\n",
    "    random_state=0,\n",
    ")\n",
    "svm_clf.fit(X_train_scaled[:10000], y_train[:10000])"
   ]
  },
  {
   "cell_type": "code",
   "execution_count": 8,
   "metadata": {},
   "outputs": [
    {
     "data": {
      "text/plain": [
       "0.9485166666666667"
      ]
     },
     "execution_count": 8,
     "metadata": {},
     "output_type": "execute_result"
    }
   ],
   "source": [
    "y_train_hat = svm_clf.predict(X_train_scaled)\n",
    "from sklearn.metrics import accuracy_score\n",
    "accuracy_score(y_train_hat, y_train)"
   ]
  },
  {
   "cell_type": "markdown",
   "metadata": {},
   "source": [
    "##### use cross validation to fune hyperparameters, use smaller training set"
   ]
  },
  {
   "cell_type": "code",
   "execution_count": 9,
   "metadata": {},
   "outputs": [
    {
     "name": "stdout",
     "output_type": "stream",
     "text": [
      "Fitting 3 folds for each of 10 candidates, totalling 30 fits\n",
      "[CV] C=3.5988934774124326, gamma=0.001513186272679838 ................\n"
     ]
    },
    {
     "name": "stderr",
     "output_type": "stream",
     "text": [
      "[Parallel(n_jobs=1)]: Using backend SequentialBackend with 1 concurrent workers.\n"
     ]
    },
    {
     "name": "stdout",
     "output_type": "stream",
     "text": [
      "[CV] . C=3.5988934774124326, gamma=0.001513186272679838, total=   1.1s\n",
      "[CV] C=3.5988934774124326, gamma=0.001513186272679838 ................\n"
     ]
    },
    {
     "name": "stderr",
     "output_type": "stream",
     "text": [
      "[Parallel(n_jobs=1)]: Done   1 out of   1 | elapsed:    1.0s remaining:    0.0s\n"
     ]
    },
    {
     "name": "stdout",
     "output_type": "stream",
     "text": [
      "[CV] . C=3.5988934774124326, gamma=0.001513186272679838, total=   0.9s\n",
      "[CV] C=3.5988934774124326, gamma=0.001513186272679838 ................\n",
      "[CV] . C=3.5988934774124326, gamma=0.001513186272679838, total=   1.2s\n",
      "[CV] C=3.055855399572819, gamma=0.06719156480223124 ..................\n",
      "[CV] ... C=3.055855399572819, gamma=0.06719156480223124, total=   1.3s\n",
      "[CV] C=3.055855399572819, gamma=0.06719156480223124 ..................\n",
      "[CV] ... C=3.055855399572819, gamma=0.06719156480223124, total=   1.3s\n",
      "[CV] C=3.055855399572819, gamma=0.06719156480223124 ..................\n",
      "[CV] ... C=3.055855399572819, gamma=0.06719156480223124, total=   1.3s\n",
      "[CV] C=1.107005900704854, gamma=0.001848939794318145 .................\n",
      "[CV] .. C=1.107005900704854, gamma=0.001848939794318145, total=   1.1s\n",
      "[CV] C=1.107005900704854, gamma=0.001848939794318145 .................\n",
      "[CV] .. C=1.107005900704854, gamma=0.001848939794318145, total=   1.0s\n",
      "[CV] C=1.107005900704854, gamma=0.001848939794318145 .................\n",
      "[CV] .. C=1.107005900704854, gamma=0.001848939794318145, total=   1.3s\n",
      "[CV] C=8.580396351217694, gamma=0.09114265653213442 ..................\n",
      "[CV] ... C=8.580396351217694, gamma=0.09114265653213442, total=   1.5s\n",
      "[CV] C=8.580396351217694, gamma=0.09114265653213442 ..................\n",
      "[CV] ... C=8.580396351217694, gamma=0.09114265653213442, total=   1.3s\n",
      "[CV] C=8.580396351217694, gamma=0.09114265653213442 ..................\n",
      "[CV] ... C=8.580396351217694, gamma=0.09114265653213442, total=   1.3s\n",
      "[CV] C=7.881852955024211, gamma=0.06993087682473523 ..................\n",
      "[CV] ... C=7.881852955024211, gamma=0.06993087682473523, total=   1.9s\n",
      "[CV] C=7.881852955024211, gamma=0.06993087682473523 ..................\n",
      "[CV] ... C=7.881852955024211, gamma=0.06993087682473523, total=   1.4s\n",
      "[CV] C=7.881852955024211, gamma=0.06993087682473523 ..................\n",
      "[CV] ... C=7.881852955024211, gamma=0.06993087682473523, total=   1.3s\n",
      "[CV] C=9.552357567109635, gamma=0.009118854871587641 .................\n",
      "[CV] .. C=9.552357567109635, gamma=0.009118854871587641, total=   1.2s\n",
      "[CV] C=9.552357567109635, gamma=0.009118854871587641 .................\n",
      "[CV] .. C=9.552357567109635, gamma=0.009118854871587641, total=   1.2s\n",
      "[CV] C=9.552357567109635, gamma=0.009118854871587641 .................\n",
      "[CV] .. C=9.552357567109635, gamma=0.009118854871587641, total=   1.3s\n",
      "[CV] C=4.335232453578552, gamma=0.018385511949522124 .................\n",
      "[CV] .. C=4.335232453578552, gamma=0.018385511949522124, total=   1.3s\n",
      "[CV] C=4.335232453578552, gamma=0.018385511949522124 .................\n",
      "[CV] .. C=4.335232453578552, gamma=0.018385511949522124, total=   1.3s\n",
      "[CV] C=4.335232453578552, gamma=0.018385511949522124 .................\n",
      "[CV] .. C=4.335232453578552, gamma=0.018385511949522124, total=   1.3s\n",
      "[CV] C=6.335534109540218, gamma=0.0011263118134606108 ................\n",
      "[CV] . C=6.335534109540218, gamma=0.0011263118134606108, total=   1.3s\n",
      "[CV] C=6.335534109540218, gamma=0.0011263118134606108 ................\n",
      "[CV] . C=6.335534109540218, gamma=0.0011263118134606108, total=   1.0s\n",
      "[CV] C=6.335534109540218, gamma=0.0011263118134606108 ................\n",
      "[CV] . C=6.335534109540218, gamma=0.0011263118134606108, total=   1.1s\n",
      "[CV] C=10.572971700825061, gamma=0.01381957639278581 .................\n",
      "[CV] .. C=10.572971700825061, gamma=0.01381957639278581, total=   1.5s\n",
      "[CV] C=10.572971700825061, gamma=0.01381957639278581 .................\n",
      "[CV] .. C=10.572971700825061, gamma=0.01381957639278581, total=   1.4s\n",
      "[CV] C=10.572971700825061, gamma=0.01381957639278581 .................\n",
      "[CV] .. C=10.572971700825061, gamma=0.01381957639278581, total=   1.4s\n",
      "[CV] C=9.744917916776693, gamma=0.029461872248440116 .................\n",
      "[CV] .. C=9.744917916776693, gamma=0.029461872248440116, total=   1.5s\n",
      "[CV] C=9.744917916776693, gamma=0.029461872248440116 .................\n",
      "[CV] .. C=9.744917916776693, gamma=0.029461872248440116, total=   1.2s\n",
      "[CV] C=9.744917916776693, gamma=0.029461872248440116 .................\n",
      "[CV] .. C=9.744917916776693, gamma=0.029461872248440116, total=   1.2s\n"
     ]
    },
    {
     "name": "stderr",
     "output_type": "stream",
     "text": [
      "[Parallel(n_jobs=1)]: Done  30 out of  30 | elapsed:   38.6s finished\n"
     ]
    },
    {
     "data": {
      "text/plain": [
       "RandomizedSearchCV(cv=3, error_score=nan,\n",
       "                   estimator=SVC(C=1.0, break_ties=False, cache_size=200,\n",
       "                                 class_weight=None, coef0=0.0,\n",
       "                                 decision_function_shape='ovr', degree=3,\n",
       "                                 gamma='scale', kernel='rbf', max_iter=-1,\n",
       "                                 probability=False, random_state=0,\n",
       "                                 shrinking=True, tol=0.001, verbose=False),\n",
       "                   iid='deprecated', n_iter=10, n_jobs=None,\n",
       "                   param_distributions={'C': <scipy.stats._distn_infrastructure.rv_frozen object at 0x000001A25AA32848>,\n",
       "                                        'gamma': <scipy.stats._distn_infrastructure.rv_frozen object at 0x000001A25AA331C8>},\n",
       "                   pre_dispatch='2*n_jobs', random_state=None, refit=True,\n",
       "                   return_train_score=False, scoring=None, verbose=2)"
      ]
     },
     "execution_count": 9,
     "metadata": {},
     "output_type": "execute_result"
    }
   ],
   "source": [
    "from sklearn.model_selection import RandomizedSearchCV\n",
    "from scipy.stats import reciprocal, uniform\n",
    "\n",
    "param_distributions = {\"gamma\": reciprocal(0.001, 0.1), \"C\": uniform(1, 10)}\n",
    "rnd_search_cv = RandomizedSearchCV(svm_clf, param_distributions, n_iter=10, verbose=2, cv=3)\n",
    "rnd_search_cv.fit(X_train_scaled[:1000], y_train[:1000])"
   ]
  },
  {
   "cell_type": "code",
   "execution_count": 10,
   "metadata": {},
   "outputs": [
    {
     "name": "stdout",
     "output_type": "stream",
     "text": [
      "0.8680087272901643\n"
     ]
    },
    {
     "data": {
      "text/plain": [
       "{'C': 6.335534109540218, 'gamma': 0.0011263118134606108}"
      ]
     },
     "execution_count": 10,
     "metadata": {},
     "output_type": "execute_result"
    }
   ],
   "source": [
    "print(rnd_search_cv.best_score_)\n",
    "rnd_search_cv.best_params_"
   ]
  },
  {
   "cell_type": "code",
   "execution_count": 16,
   "metadata": {},
   "outputs": [
    {
     "data": {
      "text/plain": [
       "SVC(C=6.335534109540218, break_ties=False, cache_size=200, class_weight=None,\n",
       "    coef0=0.0, decision_function_shape='ovr', degree=3,\n",
       "    gamma=0.0011263118134606108, kernel='rbf', max_iter=-1, probability=False,\n",
       "    random_state=0, shrinking=True, tol=0.001, verbose=False)"
      ]
     },
     "execution_count": 16,
     "metadata": {},
     "output_type": "execute_result"
    }
   ],
   "source": [
    "# use the best params to fit the whole training set\n",
    "rnd_search_cv.best_estimator_.fit(X_train_scaled, y_train)"
   ]
  },
  {
   "cell_type": "code",
   "execution_count": 18,
   "metadata": {},
   "outputs": [
    {
     "data": {
      "text/plain": [
       "0.9973166666666666"
      ]
     },
     "execution_count": 18,
     "metadata": {},
     "output_type": "execute_result"
    }
   ],
   "source": [
    "y_train_hat3 = rnd_search_cv.best_estimator_.predict(X_train_scaled)\n",
    "accuracy_score(y_train_hat3, y_train)"
   ]
  },
  {
   "cell_type": "markdown",
   "metadata": {},
   "source": [
    "## Data Augumentation "
   ]
  },
  {
   "cell_type": "code",
   "execution_count": null,
   "metadata": {},
   "outputs": [],
   "source": [
    "from scipy.ndimage.interpolation import shift\n",
    "shift?"
   ]
  },
  {
   "cell_type": "code",
   "execution_count": 49,
   "metadata": {},
   "outputs": [
    {
     "data": {
      "text/plain": [
       "array([2, 2, 3, 1, 3, 5])"
      ]
     },
     "execution_count": 49,
     "metadata": {},
     "output_type": "execute_result"
    }
   ],
   "source": [
    "np.array([(2,2,3),(1,3,5)]).reshape(-1)"
   ]
  },
  {
   "cell_type": "code",
   "execution_count": 57,
   "metadata": {},
   "outputs": [],
   "source": [
    "from scipy.ndimage.interpolation import shift\n",
    "\n",
    "def shift_img(img, dx, dy):\n",
    "    \"\"\"\n",
    "    img: 1d-array (768,)\n",
    "    \"\"\"\n",
    "    img_square = img.reshape(28,28)\n",
    "    return shift(img_square, [dy,dx], mode='constant', cval=50).reshape(-1)"
   ]
  },
  {
   "cell_type": "code",
   "execution_count": 55,
   "metadata": {},
   "outputs": [
    {
     "data": {
      "image/png": "[encoded data removed]",
      "text/plain": [
       "<Figure size 432x288 with 1 Axes>"
      ]
     },
     "metadata": {
      "needs_background": "light"
     },
     "output_type": "display_data"
    }
   ],
   "source": [
    "plt.imshow(X_train[100].reshape(28,28), cmap = mpl.cm.binary)\n",
    "plt.show()"
   ]
  },
  {
   "cell_type": "code",
   "execution_count": 59,
   "metadata": {},
   "outputs": [
    {
     "data": {
      "image/png": "[encoded data removed]",
      "text/plain": [
       "<Figure size 432x288 with 1 Axes>"
      ]
     },
     "metadata": {
      "needs_background": "light"
     },
     "output_type": "display_data"
    }
   ],
   "source": [
    "# test the function to see if it works\n",
    "shifted = shift_img(X_train[100], 3, 0)\n",
    "plt.imshow(shifted.reshape(28,28), cmap = mpl.cm.binary)\n",
    "plt.show()"
   ]
  },
  {
   "cell_type": "code",
   "execution_count": 71,
   "metadata": {},
   "outputs": [
    {
     "data": {
      "text/plain": [
       "((300000, 784), (300000,))"
      ]
     },
     "execution_count": 71,
     "metadata": {},
     "output_type": "execute_result"
    }
   ],
   "source": [
    "X_train_aug = [X_train]\n",
    "y_train_aug = [y_train]\n",
    "\n",
    "for mx,my in [(1, 0), (-1, 0), (0, 1), (0, -1)]:\n",
    "    # vectorize the function for all rows at the same time instead of for loops\n",
    "    X_aug = np.apply_along_axis(shift_img, axis=1, arr=X_train, dx=mx, dy=my)\n",
    "    X_train_aug.append(X_aug)\n",
    "    # append y_train east loop along with x_aug without changing\n",
    "    y_train_aug.append(y_train)\n",
    "    \n",
    "X_train_aug = np.concatenate(X_train_aug)\n",
    "y_train_aug = np.concatenate(y_train_aug)\n",
    "X_train_aug.shape, y_train_aug.shape"
   ]
  },
  {
   "cell_type": "code",
   "execution_count": 72,
   "metadata": {},
   "outputs": [],
   "source": [
    "# without refitting the grid_cv on augumented data, using the original best params to save time\n",
    "knn_clf = KNeighborsClassifier(**grid_cv.best_params_)"
   ]
  },
  {
   "cell_type": "code",
   "execution_count": 74,
   "metadata": {},
   "outputs": [
    {
     "data": {
      "text/plain": [
       "KNeighborsClassifier(algorithm='auto', leaf_size=30, metric='minkowski',\n",
       "                     metric_params=None, n_jobs=None, n_neighbors=4, p=2,\n",
       "                     weights='distance')"
      ]
     },
     "execution_count": 74,
     "metadata": {},
     "output_type": "execute_result"
    }
   ],
   "source": [
    "knn_clf.fit(X_train_aug, y_train_aug)"
   ]
  },
  {
   "cell_type": "code",
   "execution_count": 75,
   "metadata": {},
   "outputs": [],
   "source": [
    "y_test_aug_hat = knn_clf.predict(X_test)"
   ]
  },
  {
   "cell_type": "code",
   "execution_count": 76,
   "metadata": {},
   "outputs": [
    {
     "data": {
      "text/plain": [
       "0.9771"
      ]
     },
     "execution_count": 76,
     "metadata": {},
     "output_type": "execute_result"
    }
   ],
   "source": [
    "accuracy_score(y_test_aug_hat,y_test)"
   ]
  },
  {
   "cell_type": "code",
   "execution_count": null,
   "metadata": {},
   "outputs": [],
   "source": []
  }
 ],
 "metadata": {
  "kernelspec": {
   "display_name": "Python 3",
   "language": "python",
   "name": "python3"
  },
  "language_info": {
   "codemirror_mode": {
    "name": "ipython",
    "version": 3
   },
   "file_extension": ".py",
   "mimetype": "text/x-python",
   "name": "python",
   "nbconvert_exporter": "python",
   "pygments_lexer": "ipython3",
   "version": "3.7.4"
  }
 },
 "nbformat": 4,
 "nbformat_minor": 4
}
